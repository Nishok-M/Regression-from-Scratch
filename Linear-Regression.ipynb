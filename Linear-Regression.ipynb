{
 "cells": [
  {
   "cell_type": "markdown",
   "metadata": {},
   "source": [
    "# Simple Linear Regression"
   ]
  },
  {
   "cell_type": "markdown",
   "metadata": {},
   "source": [
    "Here, the simple linear regression is implemented on the dataset consists of two columns namely year and per capita income of Canada without using built-in functions. "
   ]
  },
  {
   "cell_type": "markdown",
   "metadata": {},
   "source": [
    "STEP - 1: Importing the necessary libraries"
   ]
  },
  {
   "cell_type": "code",
   "execution_count": 1,
   "metadata": {},
   "outputs": [],
   "source": [
    "import numpy as np\n",
    "import pandas as pd\n",
    "import matplotlib.pyplot as plt"
   ]
  },
  {
   "cell_type": "markdown",
   "metadata": {},
   "source": [
    "STEP - 2: Loading the dataset"
   ]
  },
  {
   "cell_type": "code",
   "execution_count": 2,
   "metadata": {},
   "outputs": [],
   "source": [
    "dataset = pd.read_csv('data/canada.csv')"
   ]
  },
  {
   "cell_type": "markdown",
   "metadata": {},
   "source": [
    "STEP - 3: Initializing the required variables"
   ]
  },
  {
   "cell_type": "code",
   "execution_count": 3,
   "metadata": {
    "scrolled": true
   },
   "outputs": [],
   "source": [
    "X = dataset[['year']]\n",
    "Y = dataset[['per capita income (US$)']]\n",
    "n = len(X)\n",
    "Xsq = np.multiply(X,X)\n",
    "XY = np.multiply(X,Y)"
   ]
  },
  {
   "cell_type": "markdown",
   "metadata": {},
   "source": [
    "STEP - 4: Finding the summations of the variables"
   ]
  },
  {
   "cell_type": "code",
   "execution_count": 4,
   "metadata": {},
   "outputs": [
    {
     "name": "stdout",
     "output_type": "stream",
     "text": [
      "Sum of X values =  93671\n",
      "Sum of Y values =  889246.4419799999\n",
      "Sum of square of X values =  186694951\n",
      "Sum of XY values =  1779432724.836666\n"
     ]
    }
   ],
   "source": [
    "X_sum = 0\n",
    "for i in range(0, n):\n",
    "    X_sum = X_sum + X.iloc[i,0];\n",
    "print('Sum of X values = ',X_sum)\n",
    "\n",
    "Y_sum = 0\n",
    "for i in range(0, n):\n",
    "    Y_sum = Y_sum + Y.iloc[i,0];\n",
    "print('Sum of Y values = ',Y_sum)\n",
    "\n",
    "Xsq_sum = 0\n",
    "for i in range(0, n):\n",
    "    Xsq_sum = Xsq_sum + Xsq.iloc[i,0];\n",
    "print('Sum of square of X values = ',Xsq_sum)\n",
    "\n",
    "XY_sum = 0\n",
    "for i in range(0, n):\n",
    "    XY_sum = XY_sum + XY.iloc[i,0];\n",
    "print('Sum of XY values = ',XY_sum)"
   ]
  },
  {
   "cell_type": "markdown",
   "metadata": {},
   "source": [
    "STEP - 5: Computing the values of B0 & B1"
   ]
  },
  {
   "cell_type": "code",
   "execution_count": 5,
   "metadata": {},
   "outputs": [
    {
     "name": "stdout",
     "output_type": "stream",
     "text": [
      "The value of B0 is -1632210.7579\n",
      "The value of B1 is 828.4651\n",
      "\n",
      "Regression Line: Y = ( 828.4651 ) x + ( -1632210.7579 )\n"
     ]
    }
   ],
   "source": [
    "# Declaring and assigning Array 1\n",
    "arr1 = [[0 for x in range(2)] for y in range(1)]\n",
    "arr1[0][0] = Y_sum\n",
    "arr1[0][1] = XY_sum\n",
    "\n",
    "# Declaring and assigning Array 2\n",
    "arr2 = [[0 for x in range(2)] for y in range(2)]\n",
    "arr2[0][0] = n\n",
    "arr2[0][1] = X_sum\n",
    "arr2[1][0] = X_sum\n",
    "arr2[1][1] = Xsq_sum\n",
    "\n",
    "# Finding the inverse of Array 2 and \n",
    "# Initializing it as Array 3\n",
    "arr3 = np.linalg.inv(arr2) \n",
    "\n",
    "# Finding the product of Array 1 & Array 3\n",
    "arr = np.dot(arr1,arr3)\n",
    "\n",
    "# Initializing B0 & B1\n",
    "B0 = arr[0][0]\n",
    "B1 = arr[0][1]\n",
    "\n",
    "# Printing the results\n",
    "print('The value of B0 is', round(B0, 4))\n",
    "print('The value of B1 is', round(B1, 4))\n",
    "print(\"\\nRegression Line: Y = (\",round(B1, 4),\") x + (\",round(B0, 4),\")\")"
   ]
  },
  {
   "cell_type": "markdown",
   "metadata": {},
   "source": [
    "STEP - 6: Predicting the Y values"
   ]
  },
  {
   "cell_type": "code",
   "execution_count": 6,
   "metadata": {},
   "outputs": [],
   "source": [
    "Y_new = B1*X + B0"
   ]
  },
  {
   "cell_type": "markdown",
   "metadata": {},
   "source": [
    "STEP - 7: Visualization"
   ]
  },
  {
   "cell_type": "code",
   "execution_count": 7,
   "metadata": {
    "scrolled": true
   },
   "outputs": [
    {
     "data": {
      "image/png": "[encoded data removed]",
      "text/plain": [
       "<Figure size 432x288 with 1 Axes>"
      ]
     },
     "metadata": {
      "needs_background": "light"
     },
     "output_type": "display_data"
    }
   ],
   "source": [
    "plt.scatter(X, Y, color = 'blue', label = 'Real values')\n",
    "plt.plot(X, Y_new, color = 'red', label = 'Best fit')\n",
    "plt.title('Per Capita Income (in US$) vs Year')\n",
    "plt.xlabel('Year')\n",
    "plt.ylabel('Per Capita Income (in US$)')\n",
    "plt.legend()\n",
    "plt.show()"
   ]
  },
  {
   "cell_type": "markdown",
   "metadata": {},
   "source": [
    "STEP - 8: Finding Mean Square Error:"
   ]
  },
  {
   "cell_type": "code",
   "execution_count": 8,
   "metadata": {},
   "outputs": [
    {
     "name": "stdout",
     "output_type": "stream",
     "text": [
      "Mean Squared Error = 15462739.0615\n"
     ]
    }
   ],
   "source": [
    "Error = pd.DataFrame()\n",
    "Error['Err'] = Y['per capita income (US$)'].sub(Y_new['year'], axis = 0)\n",
    "Error['Error_Sq'] = np.power((Error['Err']),2)\n",
    "SSE = 0\n",
    "for i in range(0, n):\n",
    "    SSE = SSE + Error.iloc[i,1];\n",
    "Mean_SE = SSE / n\n",
    "print('Mean Squared Error =', round(Mean_SE, 4))"
   ]
  }
 ],
 "metadata": {
  "kernelspec": {
   "display_name": "Python 3 (ipykernel)",
   "language": "python",
   "name": "python3"
  },
  "language_info": {
   "codemirror_mode": {
    "name": "ipython",
    "version": 3
   },
   "file_extension": ".py",
   "mimetype": "text/x-python",
   "name": "python",
   "nbconvert_exporter": "python",
   "pygments_lexer": "ipython3",
   "version": "3.9.7"
  }
 },
 "nbformat": 4,
 "nbformat_minor": 4
}
