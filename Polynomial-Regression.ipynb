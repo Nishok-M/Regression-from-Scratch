{
 "cells": [
  {
   "cell_type": "markdown",
   "metadata": {},
   "source": [
    "# Polynomial Regression"
   ]
  },
  {
   "cell_type": "markdown",
   "metadata": {},
   "source": [
    "In this program,the simple polynomial regression is implemented on the dataset which includes the weather summary of Szeged, Hungary area, between 2006 and 2016. The feature 'Temperature (C)' is considered as the explanatory variable and the feature 'Apparent Temperature (C)' is considered as the response variable. "
   ]
  },
  {
   "cell_type": "markdown",
   "metadata": {},
   "source": [
    "STEP - 1: Importing the necessary libraries"
   ]
  },
  {
   "cell_type": "code",
   "execution_count": 1,
   "metadata": {},
   "outputs": [],
   "source": [
    "import numpy as np\n",
    "import pandas as pd\n",
    "import matplotlib.pyplot as plt"
   ]
  },
  {
   "cell_type": "markdown",
   "metadata": {},
   "source": [
    "STEP - 2: Loading the dataset and selecting some random data for visualization"
   ]
  },
  {
   "cell_type": "code",
   "execution_count": 2,
   "metadata": {},
   "outputs": [],
   "source": [
    "data = pd.read_csv('data\\weatherHistory.csv')\n",
    "df = data.sample(n=25)"
   ]
  },
  {
   "cell_type": "markdown",
   "metadata": {},
   "source": [
    "STEP - 3: Initializing the required variables"
   ]
  },
  {
   "cell_type": "code",
   "execution_count": 3,
   "metadata": {},
   "outputs": [],
   "source": [
    "X = data[['Temperature (C)']]\n",
    "Y = data[['Apparent Temperature (C)']]\n",
    "X_test = df[['Temperature (C)']]\n",
    "Y_test = df[['Apparent Temperature (C)']]\n",
    "n = len(X)\n",
    "Xsq = np.multiply(X,X)\n",
    "XY = np.multiply(X,Y)\n",
    "XsqY = np.multiply(Xsq,Y)\n",
    "Xcb = np.multiply(Xsq, X)\n",
    "Xp4 = np.multiply(Xcb, X)"
   ]
  },
  {
   "cell_type": "markdown",
   "metadata": {},
   "source": [
    "STEP - 4: Finding the summations of the variables"
   ]
  },
  {
   "cell_type": "code",
   "execution_count": 4,
   "metadata": {},
   "outputs": [
    {
     "name": "stdout",
     "output_type": "stream",
     "text": [
      "Sum of X values = 1150942.6333\n",
      "Sum of Y values = 1047000.1\n",
      "Sum of square of X values = 22533340.7875\n",
      "Sum of XY values = 22275511.7675\n",
      "Sum of XsqY values = 483062776.0404\n",
      "Sum of Xcb values = 486797690.9759\n",
      "Sum of Xp4 values = 11804185261.3151\n"
     ]
    }
   ],
   "source": [
    "X_sum = 0\n",
    "for i in range(0, n):\n",
    "    X_sum = X_sum + X.iloc[i,0];\n",
    "print('Sum of X values =',round(X_sum,4))\n",
    "\n",
    "Y_sum = 0\n",
    "for i in range(0, n):\n",
    "    Y_sum = Y_sum + Y.iloc[i,0];\n",
    "print('Sum of Y values =',round(Y_sum,4))\n",
    "\n",
    "Xsq_sum = 0\n",
    "for i in range(0, n):\n",
    "    Xsq_sum = Xsq_sum + Xsq.iloc[i,0];\n",
    "print('Sum of square of X values =',round(Xsq_sum,4))\n",
    "\n",
    "XY_sum = 0\n",
    "for i in range(0, n):\n",
    "    XY_sum = XY_sum + XY.iloc[i,0];\n",
    "print('Sum of XY values =',round(XY_sum,4))\n",
    "\n",
    "XsqY_sum = 0\n",
    "for i in range(0, n):\n",
    "    XsqY_sum = XsqY_sum + XsqY.iloc[i,0];\n",
    "print('Sum of XsqY values =',round(XsqY_sum,4))\n",
    "\n",
    "Xcb_sum = 0\n",
    "for i in range(0, n):\n",
    "    Xcb_sum = Xcb_sum + Xcb.iloc[i,0];\n",
    "print('Sum of Xcb values =',round(Xcb_sum,4))\n",
    "\n",
    "Xp4_sum = 0\n",
    "for i in range(0, n):\n",
    "    Xp4_sum = Xp4_sum + Xp4.iloc[i,0];\n",
    "print('Sum of Xp4 values =',round(Xp4_sum,4))"
   ]
  },
  {
   "cell_type": "markdown",
   "metadata": {},
   "source": [
    "STEP - 5: Computing the values of B0 & B1"
   ]
  },
  {
   "cell_type": "code",
   "execution_count": 5,
   "metadata": {},
   "outputs": [
    {
     "name": "stdout",
     "output_type": "stream",
     "text": [
      "The value of B0 is -2.6147\n",
      "The value of B1 is 1.1936\n",
      "The value of B2 is -0.0033\n",
      "\n",
      "Regression Line: Y = ( -0.0033 ) x^2 + ( 1.1936 ) x + ( 1.1936 )\n"
     ]
    }
   ],
   "source": [
    "# Declaring and assigning Array 1\n",
    "arr1 = [[0 for x in range(3)] for y in range(1)]\n",
    "arr1[0][0] = Y_sum\n",
    "arr1[0][1] = XY_sum\n",
    "arr1[0][2] = XsqY_sum\n",
    "\n",
    "# Declaring and assigning Array 2\n",
    "arr2 = [[0 for x in range(3)] for y in range(3)]\n",
    "arr2[0][0] = n\n",
    "arr2[0][1] = X_sum\n",
    "arr2[0][2] = Xsq_sum\n",
    "arr2[1][0] = X_sum\n",
    "arr2[1][1] = Xsq_sum\n",
    "arr2[1][2] = Xcb_sum\n",
    "arr2[2][0] = Xsq_sum\n",
    "arr2[2][1] = Xcb_sum\n",
    "arr2[2][2] = Xp4_sum\n",
    "\n",
    "# Finding the inverse of Array 2 and \n",
    "# Initializing it as Array 3\n",
    "arr3 = np.linalg.inv(arr2) \n",
    "\n",
    "# Finding the product of Array 1 & Array 3\n",
    "arr = np.dot(arr1,arr3)\n",
    "\n",
    "# Initializing B0 B1 & B2\n",
    "B0 = arr[0][0]\n",
    "B1 = arr[0][1]\n",
    "B2 = arr[0][2]\n",
    "\n",
    "# Printing the results\n",
    "print('The value of B0 is', round(B0, 4))\n",
    "print('The value of B1 is', round(B1, 4))\n",
    "print('The value of B2 is', round(B2, 4))\n",
    "print(\"\\nRegression Line: Y = (\",round(B2, 4),\") x^2 + (\",round(B1, 4),\") x + (\",round(B1, 4),\")\")"
   ]
  },
  {
   "cell_type": "markdown",
   "metadata": {},
   "source": [
    "STEP - 6: Predicting the Y values"
   ]
  },
  {
   "cell_type": "code",
   "execution_count": 6,
   "metadata": {},
   "outputs": [],
   "source": [
    "Y_new = B2*Xsq + B1*X + B0"
   ]
  },
  {
   "cell_type": "markdown",
   "metadata": {},
   "source": [
    "STEP - 7: Visualization"
   ]
  },
  {
   "cell_type": "code",
   "execution_count": 7,
   "metadata": {},
   "outputs": [
    {
     "data": {
      "image/png": "[encoded data removed]",
      "text/plain": [
       "<Figure size 432x288 with 1 Axes>"
      ]
     },
     "metadata": {
      "needs_background": "light"
     },
     "output_type": "display_data"
    }
   ],
   "source": [
    "plt.scatter(X_test, Y_test, color = 'blue', label = 'Real values')\n",
    "plt.plot(X, Y_new, color = 'red', label = 'Best fit')\n",
    "plt.title('Temperature (C) vs Apparent Temperature (C)')\n",
    "plt.xlabel('Temperature (C)')\n",
    "plt.ylabel('Apparent Temperature (C)')\n",
    "plt.legend()\n",
    "plt.show()"
   ]
  },
  {
   "cell_type": "markdown",
   "metadata": {},
   "source": [
    "STEP - 8: Finding Mean Square Error:"
   ]
  },
  {
   "cell_type": "code",
   "execution_count": 8,
   "metadata": {},
   "outputs": [
    {
     "name": "stdout",
     "output_type": "stream",
     "text": [
      "Mean Squared Error = 1.551\n"
     ]
    }
   ],
   "source": [
    "Error = pd.DataFrame()\n",
    "Error['Err'] = Y['Apparent Temperature (C)'].sub(Y_new['Temperature (C)'], axis = 0)\n",
    "Error['Error_Sq'] = np.power((Error['Err']),2)\n",
    "SSE = 0\n",
    "for i in range(0, n):\n",
    "    SSE = SSE + Error.iloc[i,1];\n",
    "Mean_SE = SSE / n\n",
    "print('Mean Squared Error =', round(Mean_SE, 4))"
   ]
  }
 ],
 "metadata": {
  "kernelspec": {
   "display_name": "Python 3 (ipykernel)",
   "language": "python",
   "name": "python3"
  },
  "language_info": {
   "codemirror_mode": {
    "name": "ipython",
    "version": 3
   },
   "file_extension": ".py",
   "mimetype": "text/x-python",
   "name": "python",
   "nbconvert_exporter": "python",
   "pygments_lexer": "ipython3",
   "version": "3.9.7"
  }
 },
 "nbformat": 4,
 "nbformat_minor": 4
}
